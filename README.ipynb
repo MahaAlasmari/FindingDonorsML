{
 "cells": [
  {
   "cell_type": "markdown",
   "metadata": {},
   "source": [
    "# Finding Donors\n",
    "## Supervised learning machine\n",
    "\n",
    "A charity wants to send letter asking for donation but they want to send it to people who will most likely to donate in this project we\n",
    "predict those people based on their income and another features.\n",
    "\n",
    "## prerequisite\n",
    "- python\n",
    "- numpys\n",
    "- pandas"
   ]
  },
  {
   "cell_type": "code",
   "execution_count": null,
   "metadata": {},
   "outputs": [],
   "source": []
  }
 ],
 "metadata": {
  "kernelspec": {
   "display_name": "Python 3",
   "language": "python",
   "name": "python3"
  },
  "language_info": {
   "codemirror_mode": {
    "name": "ipython",
    "version": 3
   },
   "file_extension": ".py",
   "mimetype": "text/x-python",
   "name": "python",
   "nbconvert_exporter": "python",
   "pygments_lexer": "ipython3",
   "version": "3.7.7"
  }
 },
 "nbformat": 4,
 "nbformat_minor": 4
}
